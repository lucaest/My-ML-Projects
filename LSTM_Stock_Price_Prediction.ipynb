{
  "nbformat": 4,
  "nbformat_minor": 0,
  "metadata": {
    "colab": {
      "name": "LSTM - Stock Price Prediction.ipynb",
      "provenance": [],
      "collapsed_sections": []
    },
    "kernelspec": {
      "name": "python3",
      "display_name": "Python 3"
    }
  },
  "cells": [
    {
      "cell_type": "markdown",
      "metadata": {
        "id": "7KEtA-IPEWN1"
      },
      "source": [
        "#Test run for stock price prediction using SAP stock data and RNN - LSTM"
      ]
    },
    {
      "cell_type": "markdown",
      "metadata": {
        "id": "dTswqR-1EeWh"
      },
      "source": [
        "# Mount Google Drive"
      ]
    },
    {
      "cell_type": "code",
      "metadata": {
        "colab": {
          "base_uri": "https://localhost:8080/"
        },
        "id": "7Xr-Y12nxd_i",
        "outputId": "5eddf22b-61ab-417e-baea-1676e74046c6"
      },
      "source": [
        "from google.colab import drive\n",
        "drive.mount('/gdrive')\n",
        "%cd /gdrive"
      ],
      "execution_count": 2,
      "outputs": [
        {
          "output_type": "stream",
          "text": [
            "Mounted at /gdrive\n",
            "/gdrive\n"
          ],
          "name": "stdout"
        }
      ]
    },
    {
      "cell_type": "markdown",
      "metadata": {
        "id": "8BQSxHyHFxYN"
      },
      "source": [
        "# Import packages (some are not used)"
      ]
    },
    {
      "cell_type": "code",
      "metadata": {
        "id": "ONzDqbU1F92J"
      },
      "source": [
        "import math\n",
        "import matplotlib.pyplot as plt\n",
        "import pandas as pd\n",
        "import datetime\n",
        "import numpy as np\n",
        "import tensorflow as tf\n",
        "\n",
        "from keras.models import Sequential\n",
        "from keras.layers import Dense\n",
        "from keras.layers import LSTM\n",
        "from keras.layers import Dropout\n",
        "\n",
        "from sklearn.preprocessing import MinMaxScaler\n",
        "from sklearn.metrics import mean_squared_error\n",
        "from sklearn.metrics import mean_absolute_error\n",
        "from sklearn.model_selection import train_test_split\n",
        "from keras.callbacks import EarlyStopping"
      ],
      "execution_count": 3,
      "outputs": []
    },
    {
      "cell_type": "markdown",
      "metadata": {
        "id": "RPt-hqJKGAzS"
      },
      "source": [
        "# Load data"
      ]
    },
    {
      "cell_type": "code",
      "metadata": {
        "id": "jFYjWkZZGJLu",
        "colab": {
          "base_uri": "https://localhost:8080/"
        },
        "outputId": "2651fc16-c2d5-4aee-e3ca-e04b28396429"
      },
      "source": [
        "#load data\n",
        "dax=pd.read_csv('/gdrive/MyDrive/Colab Notebooks/SAP.csv', delimiter=',')\n",
        "dax.info()\n",
        "#remove columns we dont need\n",
        "dax = dax.drop(dax.columns[[2, 3, 4, 5]], axis=1)\n",
        "#fill missing values\n",
        "dax['Open'].interpolate(method='index', inplace=True)\n",
        "\n",
        "dax.info()\n",
        "#252 days, no value is empty"
      ],
      "execution_count": 4,
      "outputs": [
        {
          "output_type": "stream",
          "text": [
            "<class 'pandas.core.frame.DataFrame'>\n",
            "RangeIndex: 252 entries, 0 to 251\n",
            "Data columns (total 7 columns):\n",
            " #   Column     Non-Null Count  Dtype  \n",
            "---  ------     --------------  -----  \n",
            " 0   Date       252 non-null    object \n",
            " 1   Open       252 non-null    float64\n",
            " 2   High       252 non-null    float64\n",
            " 3   Low        252 non-null    float64\n",
            " 4   Close      252 non-null    float64\n",
            " 5   Adj Close  252 non-null    float64\n",
            " 6   Volume     252 non-null    int64  \n",
            "dtypes: float64(5), int64(1), object(1)\n",
            "memory usage: 13.9+ KB\n",
            "<class 'pandas.core.frame.DataFrame'>\n",
            "RangeIndex: 252 entries, 0 to 251\n",
            "Data columns (total 3 columns):\n",
            " #   Column  Non-Null Count  Dtype  \n",
            "---  ------  --------------  -----  \n",
            " 0   Date    252 non-null    object \n",
            " 1   Open    252 non-null    float64\n",
            " 2   Volume  252 non-null    int64  \n",
            "dtypes: float64(1), int64(1), object(1)\n",
            "memory usage: 6.0+ KB\n"
          ],
          "name": "stdout"
        }
      ]
    },
    {
      "cell_type": "markdown",
      "metadata": {
        "id": "oRTzdku2GQps"
      },
      "source": [
        "# Split data"
      ]
    },
    {
      "cell_type": "code",
      "metadata": {
        "colab": {
          "base_uri": "https://localhost:8080/"
        },
        "id": "SHJOdhRrGW0v",
        "outputId": "163e7253-8218-4617-a3d8-b5038aedf0ca"
      },
      "source": [
        "#split 80/20\n",
        "training_size = int(0.8*len(dax))\n",
        "\n",
        "x_train = dax.iloc[0:training_size-1, 1:2].values\n",
        "y_train = dax.iloc[1:training_size, 1:2].values\n",
        "\n",
        "x_test = dax.iloc[training_size:-1, 1:2].values\n",
        "y_test = dax.iloc[training_size+1:, 1:2].values\n",
        "\n",
        "print(x_train[1, :])#first value is price, second value is volume(not used in this notebook)\n",
        "print(y_train[0, :])#shifted training data by 1\n",
        "print(np.shape(x_train))\n",
        "print(np.shape(y_train))"
      ],
      "execution_count": 10,
      "outputs": [
        {
          "output_type": "stream",
          "text": [
            "[132.860001]\n",
            "[132.860001]\n",
            "(200, 1)\n",
            "(200, 1)\n"
          ],
          "name": "stdout"
        }
      ]
    },
    {
      "cell_type": "markdown",
      "metadata": {
        "id": "_a7Bjks0GKwF"
      },
      "source": [
        "# Normalize data"
      ]
    },
    {
      "cell_type": "code",
      "metadata": {
        "id": "BnSetjQIGOs4"
      },
      "source": [
        "#### Normalization: \n",
        "    # Normalization AFTER splitting data \n",
        "    #As with all the transformations, it is important \n",
        "    #to fit the scalers to the training data only, \n",
        "    #not to the full dataset (including the test set). \n",
        "    #Only then can you use them to transform the training \n",
        "    #set and the test set (and new data).\n",
        "scaler = MinMaxScaler(feature_range = (0, 1))\n",
        "x_train_scaled = scaler.fit_transform(x_train)\n",
        "x_test_scaled = scaler.transform(x_test)\n",
        "y_train_scaled = scaler.transform(y_train)\n",
        "y_test_scaled = scaler.transform(y_test)\n",
        "\n",
        "del(x_train, x_test)"
      ],
      "execution_count": 11,
      "outputs": []
    },
    {
      "cell_type": "markdown",
      "metadata": {
        "id": "QhE1KzctGcNC"
      },
      "source": [
        "# Construct LSTM"
      ]
    },
    {
      "cell_type": "code",
      "metadata": {
        "colab": {
          "base_uri": "https://localhost:8080/"
        },
        "id": "oBpCzsDb3R_j",
        "outputId": "ad028a69-c36d-46cd-d7ed-d7926337618f"
      },
      "source": [
        "# creating a data structure with 1 time-step and 1 output\n",
        "#( Number of observations , Number of Timesteps , Number of input series )\n",
        "\n",
        "x_train_scaled = np.reshape(x_train_scaled, (x_train_scaled.shape[0], 1, x_train_scaled.shape[1]))\n",
        "y_train_scaled = np.reshape(y_train_scaled, (y_train_scaled.shape[0], 1, y_train_scaled.shape[1]))\n",
        "x_test_scaled = np.reshape(x_test_scaled, (x_test_scaled.shape[0], 1, x_test_scaled.shape[1]))\n",
        "\n",
        "print(np.shape(x_train_scaled))\n",
        "print(np.shape(y_train_scaled))"
      ],
      "execution_count": 12,
      "outputs": [
        {
          "output_type": "stream",
          "text": [
            "(200, 1, 1)\n",
            "(200, 1, 1)\n"
          ],
          "name": "stdout"
        }
      ]
    },
    {
      "cell_type": "code",
      "metadata": {
        "id": "71E3-bpwGjrA",
        "colab": {
          "base_uri": "https://localhost:8080/"
        },
        "outputId": "a9ad7588-d8b8-47dc-c402-0a6fc4403b05"
      },
      "source": [
        "\n",
        "\n",
        "#from keras.callbacks import EarlyStopping, ReduceLROnPlateau\n",
        "#early_stopping = EarlyStopping(monitor='val_loss', patience=1, mode='auto')\n",
        "\n",
        "#create model\n",
        "model = Sequential()\n",
        "model.add(LSTM(128, dropout=0.2, recurrent_dropout=0.2, input_shape = (x_train_scaled.shape[1], 1), return_sequences=True))\n",
        "model.add(LSTM(128, dropout=0.2, recurrent_dropout=0.2, return_sequences=True))\n",
        "model.add(Dense(128, activation='tanh'))\n",
        "model.add(LSTM(128, dropout=0.5, recurrent_dropout=0.5))\n",
        "model.add(Dense(1, activation='tanh'))\n",
        "#opt = tf.keras.optimizers.Adam(clipnorm=1.0)#for exploding gradient problem\n",
        "model.compile(optimizer='adam', loss='mae')\n",
        "model.summary()"
      ],
      "execution_count": 13,
      "outputs": [
        {
          "output_type": "stream",
          "text": [
            "Model: \"sequential_1\"\n",
            "_________________________________________________________________\n",
            "Layer (type)                 Output Shape              Param #   \n",
            "=================================================================\n",
            "lstm_3 (LSTM)                (None, 1, 128)            66560     \n",
            "_________________________________________________________________\n",
            "lstm_4 (LSTM)                (None, 1, 128)            131584    \n",
            "_________________________________________________________________\n",
            "dense_2 (Dense)              (None, 1, 128)            16512     \n",
            "_________________________________________________________________\n",
            "lstm_5 (LSTM)                (None, 128)               131584    \n",
            "_________________________________________________________________\n",
            "dense_3 (Dense)              (None, 1)                 129       \n",
            "=================================================================\n",
            "Total params: 346,369\n",
            "Trainable params: 346,369\n",
            "Non-trainable params: 0\n",
            "_________________________________________________________________\n"
          ],
          "name": "stdout"
        }
      ]
    },
    {
      "cell_type": "markdown",
      "metadata": {
        "id": "ylDzxRE7GmfE"
      },
      "source": [
        "# Fit model on training data"
      ]
    },
    {
      "cell_type": "code",
      "metadata": {
        "id": "W1_bKnlCxMuP",
        "colab": {
          "base_uri": "https://localhost:8080/"
        },
        "outputId": "ec57e17c-4246-47bf-ab23-3bda2ca4bb0e"
      },
      "source": [
        "#fit model to training data\n",
        "model.fit(x_train_scaled, y_train_scaled, \n",
        "            epochs=10, batch_size=1, \n",
        "            validation_split = 0.2,\n",
        "            verbose=1,\n",
        "            )"
      ],
      "execution_count": 14,
      "outputs": [
        {
          "output_type": "stream",
          "text": [
            "Epoch 1/10\n",
            "160/160 [==============================] - 2s 10ms/step - loss: 0.1629 - val_loss: 0.2339\n",
            "Epoch 2/10\n",
            "160/160 [==============================] - 1s 7ms/step - loss: 0.1407 - val_loss: 0.3197\n",
            "Epoch 3/10\n",
            "160/160 [==============================] - 1s 7ms/step - loss: 0.1261 - val_loss: 0.2755\n",
            "Epoch 4/10\n",
            "160/160 [==============================] - 1s 7ms/step - loss: 0.1307 - val_loss: 0.3171\n",
            "Epoch 5/10\n",
            "160/160 [==============================] - 1s 7ms/step - loss: 0.1305 - val_loss: 0.3455\n",
            "Epoch 6/10\n",
            "160/160 [==============================] - 1s 7ms/step - loss: 0.1320 - val_loss: 0.2930\n",
            "Epoch 7/10\n",
            "160/160 [==============================] - 1s 7ms/step - loss: 0.1218 - val_loss: 0.3280\n",
            "Epoch 8/10\n",
            "160/160 [==============================] - 1s 7ms/step - loss: 0.1185 - val_loss: 0.2973\n",
            "Epoch 9/10\n",
            "160/160 [==============================] - 1s 7ms/step - loss: 0.1162 - val_loss: 0.2267\n",
            "Epoch 10/10\n",
            "160/160 [==============================] - 1s 7ms/step - loss: 0.1078 - val_loss: 0.1824\n"
          ],
          "name": "stdout"
        },
        {
          "output_type": "execute_result",
          "data": {
            "text/plain": [
              "<tensorflow.python.keras.callbacks.History at 0x7fd2a4134ef0>"
            ]
          },
          "metadata": {
            "tags": []
          },
          "execution_count": 14
        }
      ]
    },
    {
      "cell_type": "markdown",
      "metadata": {
        "id": "5tPwXpQzFDRm"
      },
      "source": [
        "# Get forecast from test data"
      ]
    },
    {
      "cell_type": "code",
      "metadata": {
        "id": "X6U9dedAGxAR"
      },
      "source": [
        "#get forecast from applying model to test data\n",
        "prediction = model.predict(x_test_scaled)\n",
        "prediction = scaler.inverse_transform(prediction)"
      ],
      "execution_count": 15,
      "outputs": []
    },
    {
      "cell_type": "markdown",
      "metadata": {
        "id": "3t8C6QKFEyw5"
      },
      "source": [
        "# Visualize model Performance"
      ]
    },
    {
      "cell_type": "code",
      "metadata": {
        "colab": {
          "base_uri": "https://localhost:8080/",
          "height": 295
        },
        "id": "vmC9trLd_pkf",
        "outputId": "5a25713b-cd89-4fd5-cf5e-3d4595dec7a1"
      },
      "source": [
        "# Visualizing the results\n",
        "time = dax.loc[training_size+1:, 'Date']\n",
        "plt.clf()\n",
        "plt.plot(time[-50:], y_test[-50:], color = 'r', label = 'Real Dax Price')\n",
        "plt.plot(time[-50:], prediction[-50:], color = 'b', label = 'Predicted Dax Price')\n",
        "plt.xticks(np.arange(0,len(y_test),len(y_test)/3))\n",
        "plt.title('Dax Price Prediction')\n",
        "plt.xlabel('Time')\n",
        "plt.ylabel('Dax Price')\n",
        "plt.legend()\n",
        "plt.show()"
      ],
      "execution_count": 16,
      "outputs": [
        {
          "output_type": "display_data",
          "data": {
            "image/png": "[encoded data removed]",
            "text/plain": [
              "<Figure size 432x288 with 1 Axes>"
            ]
          },
          "metadata": {
            "tags": [],
            "needs_background": "light"
          }
        }
      ]
    }
  ]
}