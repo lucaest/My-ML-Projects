{
  "nbformat": 4,
  "nbformat_minor": 0,
  "metadata": {
    "orig_nbformat": 2,
    "colab": {
      "name": "first_try.ipynb",
      "provenance": [],
      "toc_visible": true
    },
    "kernelspec": {
      "name": "python3",
      "display_name": "Python 3.8.2 64-bit",
      "metadata": {
        "interpreter": {
          "hash": "aee8b7b246df8f9039afb4144a1f6fd8d2ca17a180786b69acc140d282b71a49"
        }
      }
    }
  },
  "cells": [
    {
      "cell_type": "markdown",
      "metadata": {
        "id": "-44dWBHVnFnr"
      },
      "source": [
        "# Mount Drive to access data "
      ]
    },
    {
      "cell_type": "code",
      "metadata": {
        "colab": {
          "base_uri": "https://localhost:8080/"
        },
        "id": "HIrLy8A3IOh7",
        "outputId": "68965ff4-593e-4a65-fe2a-1cb9dce88993"
      },
      "source": [
        "from google.colab import drive\n",
        "drive.mount('/content/drive')"
      ],
      "execution_count": null,
      "outputs": [
        {
          "output_type": "stream",
          "text": [
            "Drive already mounted at /content/drive; to attempt to forcibly remount, call drive.mount(\"/content/drive\", force_remount=True).\n"
          ],
          "name": "stdout"
        }
      ]
    },
    {
      "cell_type": "markdown",
      "metadata": {
        "id": "c1-UIoxElJTt"
      },
      "source": [
        "# Import all packages"
      ]
    },
    {
      "cell_type": "code",
      "metadata": {
        "id": "j-muus6pFI-Z"
      },
      "source": [
        "import math\n",
        "import pandas as pd\n",
        "import numpy as np\n",
        "import re\n",
        "import nltk\n",
        "from nltk.corpus import stopwords\n",
        "\n",
        "from numpy import array\n",
        "#from keras.preprocessing.text import one_hot\n",
        "from keras.preprocessing.sequence import pad_sequences\n",
        "from keras.models import Sequential\n",
        "from keras.layers.core import Activation, Dropout, Dense\n",
        "from keras.layers import Flatten\n",
        "from keras.layers import GlobalMaxPooling1D\n",
        "from keras.layers.embeddings import Embedding\n",
        "from sklearn.model_selection import train_test_split\n",
        "from keras.preprocessing.text import Tokenizer\n"
      ],
      "execution_count": 1,
      "outputs": []
    },
    {
      "cell_type": "markdown",
      "metadata": {
        "id": "AZuwUwdVlYtI"
      },
      "source": [
        "# Load data and split for training and testing"
      ]
    },
    {
      "cell_type": "code",
      "metadata": {
        "id": "DlWHMHR_ldgU"
      },
      "source": [
        "#load data\n",
        "#path for colab\n",
        "#data = pd.read_csv('/content/drive/MyDrive/Colab Notebooks/My ML Projects/Combined_News_DJIA.csv', delimiter=',')\n",
        "#path for local vs code\n",
        "data = pd.read_csv('Combined_News_DJIA.csv', delimiter=',')\n",
        "\n",
        "#split data\n",
        "x_train = data[0:math.floor(0.81*1989)]\n",
        "x_test = data[math.floor(0.81*1989):1989]\n",
        "\n",
        "#use only the top 1 comment for simplicity\n",
        "#x_train= x_train.iloc[:,2]\n",
        "#x_test= x_test.iloc[:,2]\n",
        "\n",
        "#create single column from all top 25 comments\n",
        "x_train_temp_vector_all25 = []\n",
        "for row in range(0,len(x_train.index)):\n",
        "    x_train_temp_vector_all25.append(' '.join(str(x) for x in x_train.iloc[row,2:27]))\n",
        "x_test_temp_vector_all25 = []\n",
        "for row in range(0,len(x_test.index)):\n",
        "    x_test_temp_vector_all25.append(' '.join(str(x) for x in x_test.iloc[row,2:27]))\n",
        "\n",
        "#define target\n",
        "y_train = data['Label'][0:math.floor(0.81*1989)]\n",
        "y_test = data['Label'][math.floor(0.81*1989):1989]"
      ],
      "execution_count": 4,
      "outputs": []
    },
    {
      "cell_type": "markdown",
      "metadata": {
        "id": "0hkQsKqelohH"
      },
      "source": [
        "# Preprocessing textual data"
      ]
    },
    {
      "cell_type": "code",
      "metadata": {
        "id": "w0P1Ey0BFI-Z"
      },
      "source": [
        "#transform strings\n",
        "def preprocess_text(sen):\n",
        "    # Removing html tags\n",
        "    sentence = remove_tags(sen)\n",
        "    # Remove punctuations and numbers\n",
        "    sentence = re.sub('[^a-zA-Z]', ' ', sentence)\n",
        "    # Single character removal\n",
        "    sentence = re.sub(r\"\\s+[a-zA-Z]\\s+\", ' ', sentence)\n",
        "    # Removing multiple spaces\n",
        "    sentence = re.sub(r'\\s+', ' ', sentence)\n",
        "\n",
        "    return sentence\n",
        "\n",
        "TAG_RE = re.compile(r'<[^>]+>')\n",
        "\n",
        "def remove_tags(text):\n",
        "    return TAG_RE.sub('', text)\n",
        "\n",
        "#store transformed strings in new vectors\n",
        "x_train_tr = []\n",
        "for i in x_train_temp_vector_all25:\n",
        "    x_train_tr.append(preprocess_text(i))\n",
        "\n",
        "x_test_tr = []\n",
        "for i in x_test_temp_vector_all25:\n",
        "    x_test_tr.append(preprocess_text(i))\n",
        "\n",
        "#delete old vectors\n",
        "del(x_train_temp_vector_all25, x_test_temp_vector_all25)\n",
        "\n",
        "#convert textual data into numbers\n",
        "tokenizer = Tokenizer(num_words=5000)\n",
        "tokenizer.fit_on_texts(x_train_tr)\n",
        "\n",
        "x_train_tr = tokenizer.texts_to_sequences(x_train_tr)\n",
        "x_test_tr = tokenizer.texts_to_sequences(x_test_tr)"
      ],
      "execution_count": 5,
      "outputs": []
    },
    {
      "cell_type": "markdown",
      "metadata": {
        "id": "QtQWNh-Vl7bT"
      },
      "source": [
        "# Adjust length of the created word vectors"
      ]
    },
    {
      "cell_type": "code",
      "metadata": {
        "id": "bEej2AfdFI-a"
      },
      "source": [
        "#Each list actually corresponds to each sentence in the training set. \n",
        "#You will also notice that the size of each list is different. \n",
        "#This is because sentences have different lengths.\n",
        "\n",
        "#We set the maximum size of each list to 50. You can try a different size. \n",
        "#The lists with size greater than 50 will be truncated to 50. \n",
        "#For the lists that have length less than 50, we will add 0 at the end of the \n",
        "#list until it reaches the max length. This process is called padding.\n",
        "\n",
        "# Adding 1 because of reserved 0 index\n",
        "vocab_size = len(tokenizer.word_index) + 1\n",
        "\n",
        "maxlen = 500\n",
        "\n",
        "x_train_tr = pad_sequences(x_train_tr, padding='post', maxlen=maxlen)\n",
        "x_test_tr = pad_sequences(x_test_tr, padding='post', maxlen=maxlen)\n"
      ],
      "execution_count": 6,
      "outputs": []
    },
    {
      "cell_type": "markdown",
      "metadata": {
        "id": "wpAcjcZwn9ne"
      },
      "source": [
        "# Create the feature matrix"
      ]
    },
    {
      "cell_type": "code",
      "metadata": {
        "id": "q_e-pyduFI-a"
      },
      "source": [
        "#We will use GloVe embeddings to create our feature matrix. \n",
        "#In the following script we load the GloVe word embeddings and \n",
        "#create a dictionary that will contain words as keys and their \n",
        "#corresponding embedding list as values.\n",
        "\n",
        "#download link:\n",
        "#https://nlp.stanford.edu/projects/glove/\n",
        "\n",
        "from numpy import array\n",
        "from numpy import asarray\n",
        "from numpy import zeros\n",
        "\n",
        "embeddings_dictionary = dict()\n",
        "glove_file = open('/content/drive/MyDrive/Colab Notebooks/My ML Projects/glove.6B.50d.txt', encoding=\"utf8\")\n",
        "\n",
        "for line in glove_file:\n",
        "    records = line.split()\n",
        "    word = records[0]\n",
        "    vector_dimensions = asarray(records[1:], dtype='float32')\n",
        "    embeddings_dictionary [word] = vector_dimensions\n",
        "glove_file.close()\n",
        "\n",
        "embedding_matrix = zeros((vocab_size, 50))\n",
        "for word, index in tokenizer.word_index.items():\n",
        "    embedding_vector = embeddings_dictionary.get(word)\n",
        "    if embedding_vector is not None:\n",
        "        embedding_matrix[index] = embedding_vector\n"
      ],
      "execution_count": null,
      "outputs": []
    },
    {
      "cell_type": "markdown",
      "metadata": {
        "id": "pbqywl9_mdcn"
      },
      "source": [
        "# Create a model, e.g. Recurrent Neural Network, e.g. Long Short Term Memory LSTM"
      ]
    },
    {
      "cell_type": "code",
      "metadata": {
        "id": "7Ymi7EqZFI-b",
        "colab": {
          "base_uri": "https://localhost:8080/"
        },
        "outputId": "21ea6b12-f562-4988-fec3-bae6e2e7b9a1"
      },
      "source": [
        "#load package for the model\n",
        "from keras.layers import LSTM\n",
        "\n",
        "model = Sequential()\n",
        "embedding_layer = Embedding(vocab_size, 50, weights=[embedding_matrix], input_length=maxlen , trainable=False)\n",
        "model.add(embedding_layer)\n",
        "model.add(LSTM(128))\n",
        "\n",
        "model.add(Dense(1, activation='sigmoid'))\n",
        "model.compile(optimizer='adam', loss='binary_crossentropy', metrics=['acc'])\n",
        "\n",
        "print(model.summary())"
      ],
      "execution_count": null,
      "outputs": [
        {
          "output_type": "stream",
          "text": [
            "Model: \"sequential_10\"\n",
            "_________________________________________________________________\n",
            "Layer (type)                 Output Shape              Param #   \n",
            "=================================================================\n",
            "embedding_10 (Embedding)     (None, 50, 50)            333150    \n",
            "_________________________________________________________________\n",
            "lstm (LSTM)                  (None, 128)               91648     \n",
            "_________________________________________________________________\n",
            "dense_10 (Dense)             (None, 1)                 129       \n",
            "=================================================================\n",
            "Total params: 424,927\n",
            "Trainable params: 91,777\n",
            "Non-trainable params: 333,150\n",
            "_________________________________________________________________\n",
            "None\n"
          ],
          "name": "stdout"
        }
      ]
    },
    {
      "cell_type": "markdown",
      "metadata": {
        "id": "H9qgvflnmriF"
      },
      "source": [
        "# Apply model to training set and evaluate it on the test set"
      ]
    },
    {
      "cell_type": "code",
      "metadata": {
        "id": "mCFxLy4RFI-b",
        "colab": {
          "base_uri": "https://localhost:8080/"
        },
        "outputId": "da3b718e-9d30-4ec8-f67f-de51cf56561e"
      },
      "source": [
        "#fit model to training data\n",
        "history = model.fit(x_train_tr, y_train, batch_size=128, epochs=6, verbose=1, validation_split=0.2)\n",
        "#test model on test data\n",
        "score = model.evaluate(x_test_tr, y_test, verbose=1)\n",
        "#check model performance\n",
        "print(\"Test Score:\", score[0])\n",
        "print(\"Test Accuracy:\", score[1])\n"
      ],
      "execution_count": null,
      "outputs": [
        {
          "output_type": "stream",
          "text": [
            "Epoch 1/6\n",
            "11/11 [==============================] - 2s 163ms/step - loss: 0.6937 - acc: 0.5318 - val_loss: 0.6889 - val_acc: 0.5542\n",
            "Epoch 2/6\n",
            "11/11 [==============================] - 1s 127ms/step - loss: 0.6896 - acc: 0.5404 - val_loss: 0.6878 - val_acc: 0.5511\n",
            "Epoch 3/6\n",
            "11/11 [==============================] - 1s 123ms/step - loss: 0.6892 - acc: 0.5404 - val_loss: 0.6881 - val_acc: 0.5542\n",
            "Epoch 4/6\n",
            "11/11 [==============================] - 1s 123ms/step - loss: 0.6882 - acc: 0.5443 - val_loss: 0.6877 - val_acc: 0.5542\n",
            "Epoch 5/6\n",
            "11/11 [==============================] - 1s 126ms/step - loss: 0.6877 - acc: 0.5505 - val_loss: 0.6894 - val_acc: 0.5511\n",
            "Epoch 6/6\n",
            "11/11 [==============================] - 1s 124ms/step - loss: 0.6864 - acc: 0.5551 - val_loss: 0.6867 - val_acc: 0.5573\n",
            "12/12 [==============================] - 0s 14ms/step - loss: 0.6943 - acc: 0.5079\n",
            "Test Score: 0.6942715644836426\n",
            "Test Accuracy: 0.5079365372657776\n"
          ],
          "name": "stdout"
        }
      ]
    },
    {
      "cell_type": "markdown",
      "metadata": {
        "id": "NGLvrB2Tm5Wc"
      },
      "source": [
        "# Visualize the model performance "
      ]
    },
    {
      "cell_type": "code",
      "metadata": {
        "id": "GAOd1easFI-b",
        "colab": {
          "base_uri": "https://localhost:8080/",
          "height": 573
        },
        "outputId": "b02d31ee-84db-4a0b-8191-82e139ce4623"
      },
      "source": [
        "import matplotlib.pyplot as plt\n",
        "\n",
        "plt.plot(history.history['acc'])\n",
        "plt.plot(history.history['val_acc'])\n",
        "\n",
        "plt.title('model accuracy')\n",
        "plt.ylabel('accuracy')\n",
        "plt.xlabel('epoch')\n",
        "plt.legend(['train','test'], loc='upper left')\n",
        "plt.show()\n",
        "\n",
        "plt.plot(history.history['loss'])\n",
        "plt.plot(history.history['val_loss'])\n",
        "\n",
        "plt.title('model loss')\n",
        "plt.ylabel('loss')\n",
        "plt.xlabel('epoch')\n",
        "plt.legend(['train','test'], loc='upper left')\n",
        "plt.show()\n"
      ],
      "execution_count": null,
      "outputs": [
        {
          "output_type": "display_data",
          "data": {
            "image/png": "[encoded data removed]",
            "text/plain": [
              "<Figure size 432x288 with 1 Axes>"
            ]
          },
          "metadata": {
            "tags": [],
            "needs_background": "light"
          }
        },
        {
          "output_type": "display_data",
          "data": {
            "image/png": "[encoded data removed]",
            "text/plain": [
              "<Figure size 432x288 with 1 Axes>"
            ]
          },
          "metadata": {
            "tags": [],
            "needs_background": "light"
          }
        }
      ]
    },
    {
      "cell_type": "markdown",
      "metadata": {
        "id": "kNAobTEXnWMD"
      },
      "source": [
        "# Try different model, e.g. a Convolutional Neural Network"
      ]
    },
    {
      "cell_type": "code",
      "metadata": {
        "id": "MvKVZNsfngQ7"
      },
      "source": [
        "from keras.layers import Conv1D\n",
        "\n",
        "model = Sequential()\n",
        "\n",
        "embedding_layer = Embedding(vocab_size, 50, weights=[embedding_matrix], input_length=maxlen , trainable=False)\n",
        "model.add(embedding_layer)\n",
        "\n",
        "model.add(Conv1D(128, 2, activation='relu'))#kernel size = n_inputs * n_outputs\n",
        "model.add(GlobalMaxPooling1D())\n",
        "model.add(Dense(1, activation='sigmoid'))\n",
        "model.compile(optimizer='adam', loss='binary_crossentropy', metrics=['acc'])"
      ],
      "execution_count": null,
      "outputs": []
    },
    {
      "cell_type": "code",
      "metadata": {
        "colab": {
          "base_uri": "https://localhost:8080/"
        },
        "id": "nlL5Wl45qpp3",
        "outputId": "e0a264ec-c54a-45bf-bca5-87d50e36746c"
      },
      "source": [
        "print(model.summary())"
      ],
      "execution_count": null,
      "outputs": [
        {
          "output_type": "stream",
          "text": [
            "Model: \"sequential_6\"\n",
            "_________________________________________________________________\n",
            "Layer (type)                 Output Shape              Param #   \n",
            "=================================================================\n",
            "embedding_6 (Embedding)      (None, 50, 50)            333150    \n",
            "_________________________________________________________________\n",
            "conv1d_6 (Conv1D)            (None, 46, 128)           32128     \n",
            "_________________________________________________________________\n",
            "global_max_pooling1d_6 (Glob (None, 128)               0         \n",
            "_________________________________________________________________\n",
            "dense_6 (Dense)              (None, 2)                 258       \n",
            "=================================================================\n",
            "Total params: 365,536\n",
            "Trainable params: 32,386\n",
            "Non-trainable params: 333,150\n",
            "_________________________________________________________________\n",
            "None\n"
          ],
          "name": "stdout"
        }
      ]
    },
    {
      "cell_type": "code",
      "metadata": {
        "colab": {
          "base_uri": "https://localhost:8080/"
        },
        "id": "guVWKZP0qq9y",
        "outputId": "fba22664-3483-45f6-bb7a-120f36be9cae"
      },
      "source": [
        "#fit model to training data\n",
        "history = model.fit(x_train_tr, y_train, batch_size=128, epochs=5, verbose=1, validation_split=0.2)\n",
        "#test model on test data\n",
        "score = model.evaluate(x_test_tr, y_test, verbose=1)\n",
        "#check model performance\n",
        "print(\"Test Score:\", score[0])\n",
        "print(\"Test Accuracy:\", score[1])\n"
      ],
      "execution_count": null,
      "outputs": [
        {
          "output_type": "stream",
          "text": [
            "Epoch 1/5\n",
            "11/11 [==============================] - 0s 27ms/step - loss: 0.7165 - acc: 0.4891 - val_loss: 0.6957 - val_acc: 0.5542\n",
            "Epoch 2/5\n",
            "11/11 [==============================] - 0s 17ms/step - loss: 0.6784 - acc: 0.5567 - val_loss: 0.6948 - val_acc: 0.5294\n",
            "Epoch 3/5\n",
            "11/11 [==============================] - 0s 17ms/step - loss: 0.6569 - acc: 0.6102 - val_loss: 0.6960 - val_acc: 0.5542\n",
            "Epoch 4/5\n",
            "11/11 [==============================] - 0s 18ms/step - loss: 0.6436 - acc: 0.6312 - val_loss: 0.6996 - val_acc: 0.5325\n",
            "Epoch 5/5\n",
            "11/11 [==============================] - 0s 18ms/step - loss: 0.6251 - acc: 0.6755 - val_loss: 0.6986 - val_acc: 0.5542\n",
            "12/12 [==============================] - 0s 3ms/step - loss: 0.7126 - acc: 0.5185\n",
            "Test Score: 0.7126448154449463\n",
            "Test Accuracy: 0.5185185074806213\n"
          ],
          "name": "stdout"
        }
      ]
    },
    {
      "cell_type": "code",
      "metadata": {
        "colab": {
          "base_uri": "https://localhost:8080/",
          "height": 573
        },
        "id": "qA-TB2BhqxEj",
        "outputId": "18a811fc-6b8f-45dc-8fff-1148989888e7"
      },
      "source": [
        "import matplotlib.pyplot as plt\n",
        "\n",
        "plt.plot(history.history['acc'])\n",
        "plt.plot(history.history['val_acc'])\n",
        "\n",
        "plt.title('model accuracy')\n",
        "plt.ylabel('accuracy')\n",
        "plt.xlabel('epoch')\n",
        "plt.legend(['train','test'], loc = 'upper left')\n",
        "plt.show()\n",
        "\n",
        "plt.plot(history.history['loss'])\n",
        "plt.plot(history.history['val_loss'])\n",
        "\n",
        "plt.title('model loss')\n",
        "plt.ylabel('loss')\n",
        "plt.xlabel('epoch')\n",
        "plt.legend(['train','test'], loc = 'upper left')\n",
        "plt.show()"
      ],
      "execution_count": null,
      "outputs": [
        {
          "output_type": "display_data",
          "data": {
            "image/png": "[encoded data removed]",
            "text/plain": [
              "<Figure size 432x288 with 1 Axes>"
            ]
          },
          "metadata": {
            "tags": [],
            "needs_background": "light"
          }
        },
        {
          "output_type": "display_data",
          "data": {
            "image/png": "[encoded data removed]",
            "text/plain": [
              "<Figure size 432x288 with 1 Axes>"
            ]
          },
          "metadata": {
            "tags": [],
            "needs_background": "light"
          }
        }
      ]
    },
    {
      "cell_type": "markdown",
      "metadata": {
        "id": "50RTBPyF0jdK"
      },
      "source": [
        "# Try last model, simple NN"
      ]
    },
    {
      "cell_type": "code",
      "metadata": {
        "colab": {
          "base_uri": "https://localhost:8080/"
        },
        "id": "fSElPSVD0umD",
        "outputId": "4bee2b0b-79b1-4f97-e658-3c44bd26943c"
      },
      "source": [
        "model = Sequential()\n",
        "embedding_layer = Embedding(vocab_size, 50, weights=[embedding_matrix], input_length=maxlen , trainable=False)\n",
        "model.add(embedding_layer)\n",
        "\n",
        "model.add(Flatten())\n",
        "model.add(Dense(1, activation='sigmoid'))\n",
        "model.compile(optimizer='adam', loss='binary_crossentropy', metrics=['acc'])\n",
        "\n",
        "print(model.summary())"
      ],
      "execution_count": null,
      "outputs": [
        {
          "output_type": "stream",
          "text": [
            "Model: \"sequential_12\"\n",
            "_________________________________________________________________\n",
            "Layer (type)                 Output Shape              Param #   \n",
            "=================================================================\n",
            "embedding_12 (Embedding)     (None, 50, 50)            333150    \n",
            "_________________________________________________________________\n",
            "flatten (Flatten)            (None, 2500)              0         \n",
            "_________________________________________________________________\n",
            "dense_11 (Dense)             (None, 1)                 2501      \n",
            "=================================================================\n",
            "Total params: 335,651\n",
            "Trainable params: 2,501\n",
            "Non-trainable params: 333,150\n",
            "_________________________________________________________________\n",
            "None\n"
          ],
          "name": "stdout"
        }
      ]
    },
    {
      "cell_type": "code",
      "metadata": {
        "colab": {
          "base_uri": "https://localhost:8080/"
        },
        "id": "88Ul4Ct603h1",
        "outputId": "893677aa-abb7-42f8-efda-56a57838719c"
      },
      "source": [
        "#fit model to training data\n",
        "history = model.fit(x_train_tr, y_train, batch_size=128, epochs=5, verbose=1, validation_split=0.2)\n",
        "#test model on test data\n",
        "score = model.evaluate(x_test_tr, y_test, verbose=1)\n",
        "#check model performance\n",
        "print(\"Test Score:\", score[0])\n",
        "print(\"Test Accuracy:\", score[1])"
      ],
      "execution_count": null,
      "outputs": [
        {
          "output_type": "stream",
          "text": [
            "Epoch 1/5\n",
            "11/11 [==============================] - 0s 13ms/step - loss: 0.7375 - acc: 0.5031 - val_loss: 0.7248 - val_acc: 0.4861\n",
            "Epoch 2/5\n",
            "11/11 [==============================] - 0s 3ms/step - loss: 0.6814 - acc: 0.5497 - val_loss: 0.7187 - val_acc: 0.4892\n",
            "Epoch 3/5\n",
            "11/11 [==============================] - 0s 3ms/step - loss: 0.6560 - acc: 0.6017 - val_loss: 0.7148 - val_acc: 0.5294\n",
            "Epoch 4/5\n",
            "11/11 [==============================] - 0s 3ms/step - loss: 0.6373 - acc: 0.6320 - val_loss: 0.7147 - val_acc: 0.5356\n",
            "Epoch 5/5\n",
            "11/11 [==============================] - 0s 3ms/step - loss: 0.6239 - acc: 0.6467 - val_loss: 0.7138 - val_acc: 0.5356\n",
            "12/12 [==============================] - 0s 1ms/step - loss: 0.7311 - acc: 0.5397\n",
            "Test Score: 0.7310597896575928\n",
            "Test Accuracy: 0.5396825671195984\n"
          ],
          "name": "stdout"
        }
      ]
    },
    {
      "cell_type": "code",
      "metadata": {
        "id": "RKsdeBwk1INT",
        "colab": {
          "base_uri": "https://localhost:8080/",
          "height": 573
        },
        "outputId": "97d76a84-e935-4e93-e687-a1e796ebcd27"
      },
      "source": [
        "import matplotlib.pyplot as plt\n",
        "\n",
        "plt.plot(history.history['acc'])\n",
        "plt.plot(history.history['val_acc'])\n",
        "\n",
        "plt.title('model accuracy')\n",
        "plt.ylabel('accuracy')\n",
        "plt.xlabel('epoch')\n",
        "plt.legend(['train','test'], loc = 'upper left')\n",
        "plt.show()\n",
        "\n",
        "plt.plot(history.history['loss'])\n",
        "plt.plot(history.history['val_loss'])\n",
        "\n",
        "plt.title('model loss')\n",
        "plt.ylabel('loss')\n",
        "plt.xlabel('epoch')\n",
        "plt.legend(['train','test'], loc = 'upper left')\n",
        "plt.show()"
      ],
      "execution_count": null,
      "outputs": [
        {
          "output_type": "display_data",
          "data": {
            "image/png": "[encoded data removed]",
            "text/plain": [
              "<Figure size 432x288 with 1 Axes>"
            ]
          },
          "metadata": {
            "tags": [],
            "needs_background": "light"
          }
        },
        {
          "output_type": "display_data",
          "data": {
            "image/png": "[encoded data removed]",
            "text/plain": [
              "<Figure size 432x288 with 1 Axes>"
            ]
          },
          "metadata": {
            "tags": [],
            "needs_background": "light"
          }
        }
      ]
    }
  ]
}